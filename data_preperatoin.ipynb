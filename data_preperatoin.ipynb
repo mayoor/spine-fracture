{
 "cells": [
  {
   "cell_type": "code",
   "execution_count": 4,
   "id": "1af68a5f-ad10-4f1d-b1e4-87ca9839b5db",
   "metadata": {},
   "outputs": [],
   "source": [
    "from sklearn.preprocessing import StandardScaler\n",
    "import utils\n",
    "import glob\n",
    "import numpy as np\n",
    "import pandas as pd\n",
    "from tqdm import tqdm"
   ]
  },
  {
   "cell_type": "code",
   "execution_count": 29,
   "id": "93bbb865-062e-4359-98de-1be98afc174e",
   "metadata": {},
   "outputs": [],
   "source": [
    "def extract_metadata_images(folder=\"train_images\"):\n",
    "    paths = glob.glob(f\"{folder}/**/*.dcm\")\n",
    "    data = []\n",
    "    for path in tqdm(paths):\n",
    "        try:\n",
    "            dcm, image = utils.show_dcm_image(path)\n",
    "            record = (*dcm.ImageOrientationPatient, dcm.SliceThickness, dcm.InstanceNumber, np.min(image),  np.max(image), np.sum(image), np.mean(image), np.std(image))\n",
    "            data.append(record)\n",
    "        except:\n",
    "            print(path)\n",
    "            break\n",
    "    \n",
    "    return pd.DataFrame(data=data,columns=[f\"Orientation_{i}\" for i in range(6)] + [\"slice_thickness\", \"slice_number\", \"min_pixel\", \"max_pixel\", \"sum_pixel\", \"mean_pixel\", \"std_pixel\"])\n",
    "    "
   ]
  },
  {
   "cell_type": "code",
   "execution_count": 30,
   "id": "28363abf-36ea-403d-8401-cb6503357e65",
   "metadata": {},
   "outputs": [
    {
     "name": "stderr",
     "output_type": "stream",
     "text": [
      " 69%|██████████████████████████████████████████████████▋                      | 494469/711601 [1:12:25<39:27, 91.70it/s]/opt/conda/miniconda3/envs/spine-kaggle/lib/python3.8/site-packages/pydicom/pixel_data_handlers/pillow_handler.py:238: UserWarning: The (0028,0101) 'Bits Stored' value (12-bit) doesn't match the JPEG 2000 data (16-bit). It's recommended that you change the 'Bits Stored' value\n",
      "  warnings.warn(\n",
      "100%|████████████████████████████████████████████████████████████████████████| 711601/711601 [1:42:23<00:00, 115.83it/s]\n"
     ]
    }
   ],
   "source": [
    "train_image_info = extract_metadata_images()"
   ]
  },
  {
   "cell_type": "code",
   "execution_count": 31,
   "id": "8a34094d-4371-4a2f-bd94-7c2517172863",
   "metadata": {},
   "outputs": [],
   "source": [
    "train_image_info.to_csv(\"training_metadata.csv\")"
   ]
  },
  {
   "cell_type": "code",
   "execution_count": 32,
   "id": "04c52025-6cb6-4f2d-a69c-ecd6a73ffa9e",
   "metadata": {},
   "outputs": [
    {
     "data": {
      "text/html": [
       "<div>\n",
       "<style scoped>\n",
       "    .dataframe tbody tr th:only-of-type {\n",
       "        vertical-align: middle;\n",
       "    }\n",
       "\n",
       "    .dataframe tbody tr th {\n",
       "        vertical-align: top;\n",
       "    }\n",
       "\n",
       "    .dataframe thead th {\n",
       "        text-align: right;\n",
       "    }\n",
       "</style>\n",
       "<table border=\"1\" class=\"dataframe\">\n",
       "  <thead>\n",
       "    <tr style=\"text-align: right;\">\n",
       "      <th></th>\n",
       "      <th>Orientation_0</th>\n",
       "      <th>Orientation_1</th>\n",
       "      <th>Orientation_2</th>\n",
       "      <th>Orientation_3</th>\n",
       "      <th>Orientation_4</th>\n",
       "      <th>Orientation_5</th>\n",
       "      <th>slice_thickness</th>\n",
       "      <th>slice_number</th>\n",
       "      <th>min_pixel</th>\n",
       "      <th>max_pixel</th>\n",
       "      <th>sum_pixel</th>\n",
       "      <th>mean_pixel</th>\n",
       "      <th>std_pixel</th>\n",
       "    </tr>\n",
       "  </thead>\n",
       "  <tbody>\n",
       "    <tr>\n",
       "      <th>0</th>\n",
       "      <td>1.0</td>\n",
       "      <td>0.0</td>\n",
       "      <td>0.0</td>\n",
       "      <td>0.0</td>\n",
       "      <td>1.0</td>\n",
       "      <td>0.0</td>\n",
       "      <td>0.625</td>\n",
       "      <td>1</td>\n",
       "      <td>-33792.0</td>\n",
       "      <td>31743.0</td>\n",
       "      <td>1.197744e+09</td>\n",
       "      <td>4569.031457</td>\n",
       "      <td>22711.343188</td>\n",
       "    </tr>\n",
       "    <tr>\n",
       "      <th>1</th>\n",
       "      <td>1.0</td>\n",
       "      <td>0.0</td>\n",
       "      <td>0.0</td>\n",
       "      <td>0.0</td>\n",
       "      <td>1.0</td>\n",
       "      <td>0.0</td>\n",
       "      <td>0.625</td>\n",
       "      <td>10</td>\n",
       "      <td>-33792.0</td>\n",
       "      <td>31743.0</td>\n",
       "      <td>1.164756e+09</td>\n",
       "      <td>4443.190080</td>\n",
       "      <td>23372.200898</td>\n",
       "    </tr>\n",
       "    <tr>\n",
       "      <th>2</th>\n",
       "      <td>1.0</td>\n",
       "      <td>0.0</td>\n",
       "      <td>0.0</td>\n",
       "      <td>0.0</td>\n",
       "      <td>1.0</td>\n",
       "      <td>0.0</td>\n",
       "      <td>0.625</td>\n",
       "      <td>100</td>\n",
       "      <td>-33792.0</td>\n",
       "      <td>31743.0</td>\n",
       "      <td>-3.843955e+08</td>\n",
       "      <td>-1466.352437</td>\n",
       "      <td>22336.901178</td>\n",
       "    </tr>\n",
       "    <tr>\n",
       "      <th>3</th>\n",
       "      <td>1.0</td>\n",
       "      <td>0.0</td>\n",
       "      <td>0.0</td>\n",
       "      <td>0.0</td>\n",
       "      <td>1.0</td>\n",
       "      <td>0.0</td>\n",
       "      <td>0.625</td>\n",
       "      <td>101</td>\n",
       "      <td>-33792.0</td>\n",
       "      <td>31743.0</td>\n",
       "      <td>-4.057661e+08</td>\n",
       "      <td>-1547.874705</td>\n",
       "      <td>22299.914333</td>\n",
       "    </tr>\n",
       "    <tr>\n",
       "      <th>4</th>\n",
       "      <td>1.0</td>\n",
       "      <td>0.0</td>\n",
       "      <td>0.0</td>\n",
       "      <td>0.0</td>\n",
       "      <td>1.0</td>\n",
       "      <td>0.0</td>\n",
       "      <td>0.625</td>\n",
       "      <td>102</td>\n",
       "      <td>-33792.0</td>\n",
       "      <td>31743.0</td>\n",
       "      <td>-4.258913e+08</td>\n",
       "      <td>-1624.646420</td>\n",
       "      <td>22266.331561</td>\n",
       "    </tr>\n",
       "  </tbody>\n",
       "</table>\n",
       "</div>"
      ],
      "text/plain": [
       "   Orientation_0  Orientation_1  Orientation_2  Orientation_3  Orientation_4  \\\n",
       "0            1.0            0.0            0.0            0.0            1.0   \n",
       "1            1.0            0.0            0.0            0.0            1.0   \n",
       "2            1.0            0.0            0.0            0.0            1.0   \n",
       "3            1.0            0.0            0.0            0.0            1.0   \n",
       "4            1.0            0.0            0.0            0.0            1.0   \n",
       "\n",
       "   Orientation_5  slice_thickness  slice_number  min_pixel  max_pixel  \\\n",
       "0            0.0            0.625             1   -33792.0    31743.0   \n",
       "1            0.0            0.625            10   -33792.0    31743.0   \n",
       "2            0.0            0.625           100   -33792.0    31743.0   \n",
       "3            0.0            0.625           101   -33792.0    31743.0   \n",
       "4            0.0            0.625           102   -33792.0    31743.0   \n",
       "\n",
       "      sum_pixel   mean_pixel     std_pixel  \n",
       "0  1.197744e+09  4569.031457  22711.343188  \n",
       "1  1.164756e+09  4443.190080  23372.200898  \n",
       "2 -3.843955e+08 -1466.352437  22336.901178  \n",
       "3 -4.057661e+08 -1547.874705  22299.914333  \n",
       "4 -4.258913e+08 -1624.646420  22266.331561  "
      ]
     },
     "execution_count": 32,
     "metadata": {},
     "output_type": "execute_result"
    }
   ],
   "source": [
    "train_image_info.head()"
   ]
  },
  {
   "cell_type": "code",
   "execution_count": 33,
   "id": "d2d5a65c-6507-4f10-9e45-26095d6e5a35",
   "metadata": {},
   "outputs": [
    {
     "data": {
      "text/plain": [
       "array([0.625     , 1.        , 0.5       , 0.6       , 0.9       ,\n",
       "       0.67      , 0.8       , 0.75      , 0.60000002, 0.664062  ,\n",
       "       0.488281  ])"
      ]
     },
     "execution_count": 33,
     "metadata": {},
     "output_type": "execute_result"
    }
   ],
   "source": [
    "train_image_info.slice_thickness.unique()"
   ]
  },
  {
   "cell_type": "code",
   "execution_count": 40,
   "id": "3be5f38a-1069-4fa0-b010-17413dcde624",
   "metadata": {},
   "outputs": [
    {
     "data": {
      "text/plain": [
       "<AxesSubplot:>"
      ]
     },
     "execution_count": 40,
     "metadata": {},
     "output_type": "execute_result"
    },
    {
     "data": {
      "image/png": "[encoded data removed]",
      "text/plain": [
       "<Figure size 432x288 with 1 Axes>"
      ]
     },
     "metadata": {
      "needs_background": "light"
     },
     "output_type": "display_data"
    }
   ],
   "source": [
    "train_image_info.mean_pixel.hist()"
   ]
  },
  {
   "cell_type": "code",
   "execution_count": 41,
   "id": "29a8214b-6800-459d-b8d4-a602b5f3af1f",
   "metadata": {},
   "outputs": [
    {
     "data": {
      "text/plain": [
       "<AxesSubplot:>"
      ]
     },
     "execution_count": 41,
     "metadata": {},
     "output_type": "execute_result"
    },
    {
     "data": {
      "image/png": "[encoded data removed]",
      "text/plain": [
       "<Figure size 432x288 with 1 Axes>"
      ]
     },
     "metadata": {
      "needs_background": "light"
     },
     "output_type": "display_data"
    }
   ],
   "source": [
    "train_image_info.std_pixel.hist()"
   ]
  },
  {
   "cell_type": "code",
   "execution_count": 42,
   "id": "a43e74b0-1b20-4e9e-933c-ae81f9714731",
   "metadata": {},
   "outputs": [
    {
     "data": {
      "text/plain": [
       "<AxesSubplot:>"
      ]
     },
     "execution_count": 42,
     "metadata": {},
     "output_type": "execute_result"
    },
    {
     "data": {
      "image/png": "[encoded data removed]",
      "text/plain": [
       "<Figure size 432x288 with 1 Axes>"
      ]
     },
     "metadata": {
      "needs_background": "light"
     },
     "output_type": "display_data"
    }
   ],
   "source": [
    "train_image_info.slice_thickness.hist()"
   ]
  },
  {
   "cell_type": "code",
   "execution_count": 43,
   "id": "651d1709-aa3e-48b9-97a6-433ff49dcfa9",
   "metadata": {},
   "outputs": [],
   "source": [
    "dimage, img = utils.show_dcm_image('train_images/1.2.826.0.1.3680043.10014/1.dcm')"
   ]
  },
  {
   "cell_type": "code",
   "execution_count": 44,
   "id": "5fd7a73f-2a01-4069-8bd8-9226a442ba0c",
   "metadata": {},
   "outputs": [
    {
     "data": {
      "text/plain": [
       "[-48.6328, -54.25781, -486.00]"
      ]
     },
     "execution_count": 44,
     "metadata": {},
     "output_type": "execute_result"
    }
   ],
   "source": [
    "dimage.ImagePositionPatient"
   ]
  },
  {
   "cell_type": "code",
   "execution_count": 37,
   "id": "8f4fd674-7072-43ee-9cfb-e278990df9b9",
   "metadata": {},
   "outputs": [],
   "source": [
    "dimage, img = utils.show_dcm_image('train_images/1.2.826.0.1.3680043.10014/10.dcm')"
   ]
  },
  {
   "cell_type": "code",
   "execution_count": 39,
   "id": "0932ae8c-355d-44ac-b410-eae0f1dfac9a",
   "metadata": {},
   "outputs": [
    {
     "data": {
      "text/plain": [
       "Dataset.file_meta -------------------------------\n",
       "(0002, 0001) File Meta Information Version       OB: b'\\x00\\x01'\n",
       "(0002, 0002) Media Storage SOP Class UID         UI: CT Image Storage\n",
       "(0002, 0003) Media Storage SOP Instance UID      UI: 1.2.826.0.1.3680043.10014.1.10\n",
       "(0002, 0010) Transfer Syntax UID                 UI: JPEG Lossless, Non-Hierarchical, First-Order Prediction (Process 14 [Selection Value 1])\n",
       "(0002, 0012) Implementation Class UID            UI: 1.2.40.0.13.1.1.1\n",
       "(0002, 0013) Implementation Version Name         SH: 'PYDICOM 2.3.0'\n",
       "-------------------------------------------------\n",
       "(0008, 0018) SOP Instance UID                    UI: 1.2.826.0.1.3680043.10014.1.10\n",
       "(0008, 0023) Content Date                        DA: '20220727'\n",
       "(0008, 0033) Content Time                        TM: '180850.369808'\n",
       "(0010, 0010) Patient's Name                      PN: '10014'\n",
       "(0010, 0020) Patient ID                          LO: '10014'\n",
       "(0018, 0050) Slice Thickness                     DS: '1.0'\n",
       "(0020, 000d) Study Instance UID                  UI: 1.2.826.0.1.3680043.10014\n",
       "(0020, 000e) Series Instance UID                 UI: 1.2.826.0.1.3680043.10014.1\n",
       "(0020, 0013) Instance Number                     IS: '10'\n",
       "(0020, 0032) Image Position (Patient)            DS: [-48.6328, -54.25781, -493.20]\n",
       "(0020, 0037) Image Orientation (Patient)         DS: [1.00000, 0.00000, 0.00000, 0.00000, 1.00000, 0.00000]\n",
       "(0028, 0002) Samples per Pixel                   US: 1\n",
       "(0028, 0004) Photometric Interpretation          CS: 'MONOCHROME2'\n",
       "(0028, 0010) Rows                                US: 512\n",
       "(0028, 0011) Columns                             US: 512\n",
       "(0028, 0030) Pixel Spacing                       DS: [0.234, 0.234]\n",
       "(0028, 0100) Bits Allocated                      US: 16\n",
       "(0028, 0101) Bits Stored                         US: 16\n",
       "(0028, 0102) High Bit                            US: 15\n",
       "(0028, 0103) Pixel Representation                US: 1\n",
       "(0028, 1050) Window Center                       DS: '350.0'\n",
       "(0028, 1051) Window Width                        DS: '2700.0'\n",
       "(0028, 1052) Rescale Intercept                   DS: '0.0'\n",
       "(0028, 1053) Rescale Slope                       DS: '1.0'\n",
       "(7fe0, 0010) Pixel Data                          OB: Array of 250012 elements"
      ]
     },
     "execution_count": 39,
     "metadata": {},
     "output_type": "execute_result"
    }
   ],
   "source": [
    "dimage"
   ]
  },
  {
   "cell_type": "code",
   "execution_count": null,
   "id": "2587f725-45db-4bdf-9d29-d6bce26c2f81",
   "metadata": {},
   "outputs": [],
   "source": []
  },
  {
   "cell_type": "code",
   "execution_count": null,
   "id": "c979ec61-6356-456f-9c81-7c7c8399aaa3",
   "metadata": {},
   "outputs": [],
   "source": []
  },
  {
   "cell_type": "code",
   "execution_count": null,
   "id": "00801d92-43f6-4f70-bf41-2592626b5262",
   "metadata": {},
   "outputs": [],
   "source": []
  },
  {
   "cell_type": "code",
   "execution_count": null,
   "id": "72001ef4-c8e6-4501-93e6-31617bf147ef",
   "metadata": {},
   "outputs": [],
   "source": []
  },
  {
   "cell_type": "markdown",
   "id": "b2293de1-c0e4-4376-ab00-22a0bb6e97a7",
   "metadata": {},
   "source": [
    "## References"
   ]
  },
  {
   "cell_type": "markdown",
   "id": "70be2fd9-9441-4cf4-9379-bab0d28e36b2",
   "metadata": {},
   "source": [
    "* https://towardsdatascience.com/understanding-dicoms-835cd2e57d0b"
   ]
  },
  {
   "cell_type": "code",
   "execution_count": null,
   "id": "81bc5857-55b8-43e3-a605-4c83c33aecf6",
   "metadata": {},
   "outputs": [],
   "source": []
  }
 ],
 "metadata": {
  "kernelspec": {
   "display_name": "Python 3 (ipykernel)",
   "language": "python",
   "name": "python3"
  },
  "language_info": {
   "codemirror_mode": {
    "name": "ipython",
    "version": 3
   },
   "file_extension": ".py",
   "mimetype": "text/x-python",
   "name": "python",
   "nbconvert_exporter": "python",
   "pygments_lexer": "ipython3",
   "version": "3.8.13"
  }
 },
 "nbformat": 4,
 "nbformat_minor": 5
}
