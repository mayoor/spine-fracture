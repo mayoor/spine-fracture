{
 "cells": [
  {
   "cell_type": "code",
   "execution_count": 38,
   "id": "c9c96440-76e7-4e8b-899b-44b1b54549b8",
   "metadata": {},
   "outputs": [],
   "source": [
    "import utils\n",
    "import pandas as pd\n",
    "import numpy as np\n",
    "import glob\n",
    "import matplotlib.pyplot as plt"
   ]
  },
  {
   "cell_type": "markdown",
   "id": "73de184d-07b2-4048-bf56-1ba02d1e0f8f",
   "metadata": {},
   "source": [
    "## Objective"
   ]
  },
  {
   "cell_type": "markdown",
   "id": "426cef1f-1c8d-4f49-9dd7-c88f0a6e801a",
   "metadata": {},
   "source": [
    "Does patient position metadata correlate with vertebrea fracture type. In this example I am analyzing records with only one fracture."
   ]
  },
  {
   "cell_type": "code",
   "execution_count": 5,
   "id": "f095d7be-ac8a-4885-a6d9-2d86289a9951",
   "metadata": {},
   "outputs": [],
   "source": [
    "df_train = pd.read_csv('train.csv')"
   ]
  },
  {
   "cell_type": "code",
   "execution_count": 6,
   "id": "e5a2433b-73bd-4d84-9db9-f96b8198debf",
   "metadata": {},
   "outputs": [],
   "source": [
    "df_train[\"fracture_count\"] = df_train.apply(lambda x: sum(x[2:]), axis=1)"
   ]
  },
  {
   "cell_type": "code",
   "execution_count": 7,
   "id": "b463698c-bb92-4a62-9dec-17fb2980321a",
   "metadata": {},
   "outputs": [
    {
     "data": {
      "text/plain": [
       "array([2, 1, 0, 3, 5, 4, 6])"
      ]
     },
     "execution_count": 7,
     "metadata": {},
     "output_type": "execute_result"
    }
   ],
   "source": [
    "df_train[\"fracture_count\"].unique()"
   ]
  },
  {
   "cell_type": "code",
   "execution_count": 8,
   "id": "a0390420-f6c4-4994-a8e1-ad96eb24f113",
   "metadata": {},
   "outputs": [],
   "source": [
    "df_frac_one = df_train[df_train[\"fracture_count\"]==1]"
   ]
  },
  {
   "cell_type": "code",
   "execution_count": 9,
   "id": "6f8e0037-bb19-4b40-bb45-dcf1d9888872",
   "metadata": {},
   "outputs": [
    {
     "name": "stderr",
     "output_type": "stream",
     "text": [
      "/tmp/ipykernel_2105/2009875273.py:1: SettingWithCopyWarning: \n",
      "A value is trying to be set on a copy of a slice from a DataFrame.\n",
      "Try using .loc[row_indexer,col_indexer] = value instead\n",
      "\n",
      "See the caveats in the documentation: https://pandas.pydata.org/pandas-docs/stable/user_guide/indexing.html#returning-a-view-versus-a-copy\n",
      "  df_frac_one[\"vertebrea\"] = df_frac_one.apply(lambda x: np.argmax(x[2:])+1, axis=1)\n"
     ]
    }
   ],
   "source": [
    "df_frac_one[\"vertebrea\"] = df_frac_one.apply(lambda x: np.argmax(x[2:])+1, axis=1)"
   ]
  },
  {
   "cell_type": "code",
   "execution_count": 10,
   "id": "ce51f675-df24-4655-909b-266a86313db4",
   "metadata": {},
   "outputs": [
    {
     "data": {
      "text/html": [
       "<div>\n",
       "<style scoped>\n",
       "    .dataframe tbody tr th:only-of-type {\n",
       "        vertical-align: middle;\n",
       "    }\n",
       "\n",
       "    .dataframe tbody tr th {\n",
       "        vertical-align: top;\n",
       "    }\n",
       "\n",
       "    .dataframe thead th {\n",
       "        text-align: right;\n",
       "    }\n",
       "</style>\n",
       "<table border=\"1\" class=\"dataframe\">\n",
       "  <thead>\n",
       "    <tr style=\"text-align: right;\">\n",
       "      <th></th>\n",
       "      <th>StudyInstanceUID</th>\n",
       "      <th>patient_overall</th>\n",
       "      <th>C1</th>\n",
       "      <th>C2</th>\n",
       "      <th>C3</th>\n",
       "      <th>C4</th>\n",
       "      <th>C5</th>\n",
       "      <th>C6</th>\n",
       "      <th>C7</th>\n",
       "      <th>fracture_count</th>\n",
       "      <th>vertebrea</th>\n",
       "    </tr>\n",
       "  </thead>\n",
       "  <tbody>\n",
       "    <tr>\n",
       "      <th>1</th>\n",
       "      <td>1.2.826.0.1.3680043.27262</td>\n",
       "      <td>1</td>\n",
       "      <td>0</td>\n",
       "      <td>1</td>\n",
       "      <td>0</td>\n",
       "      <td>0</td>\n",
       "      <td>0</td>\n",
       "      <td>0</td>\n",
       "      <td>0</td>\n",
       "      <td>1</td>\n",
       "      <td>2</td>\n",
       "    </tr>\n",
       "    <tr>\n",
       "      <th>2</th>\n",
       "      <td>1.2.826.0.1.3680043.21561</td>\n",
       "      <td>1</td>\n",
       "      <td>0</td>\n",
       "      <td>1</td>\n",
       "      <td>0</td>\n",
       "      <td>0</td>\n",
       "      <td>0</td>\n",
       "      <td>0</td>\n",
       "      <td>0</td>\n",
       "      <td>1</td>\n",
       "      <td>2</td>\n",
       "    </tr>\n",
       "    <tr>\n",
       "      <th>4</th>\n",
       "      <td>1.2.826.0.1.3680043.1363</td>\n",
       "      <td>1</td>\n",
       "      <td>0</td>\n",
       "      <td>0</td>\n",
       "      <td>0</td>\n",
       "      <td>0</td>\n",
       "      <td>1</td>\n",
       "      <td>0</td>\n",
       "      <td>0</td>\n",
       "      <td>1</td>\n",
       "      <td>5</td>\n",
       "    </tr>\n",
       "    <tr>\n",
       "      <th>5</th>\n",
       "      <td>1.2.826.0.1.3680043.4859</td>\n",
       "      <td>1</td>\n",
       "      <td>0</td>\n",
       "      <td>0</td>\n",
       "      <td>0</td>\n",
       "      <td>0</td>\n",
       "      <td>0</td>\n",
       "      <td>1</td>\n",
       "      <td>0</td>\n",
       "      <td>1</td>\n",
       "      <td>6</td>\n",
       "    </tr>\n",
       "    <tr>\n",
       "      <th>9</th>\n",
       "      <td>1.2.826.0.1.3680043.24045</td>\n",
       "      <td>1</td>\n",
       "      <td>0</td>\n",
       "      <td>0</td>\n",
       "      <td>0</td>\n",
       "      <td>0</td>\n",
       "      <td>0</td>\n",
       "      <td>0</td>\n",
       "      <td>1</td>\n",
       "      <td>1</td>\n",
       "      <td>7</td>\n",
       "    </tr>\n",
       "  </tbody>\n",
       "</table>\n",
       "</div>"
      ],
      "text/plain": [
       "            StudyInstanceUID  patient_overall  C1  C2  C3  C4  C5  C6  C7  \\\n",
       "1  1.2.826.0.1.3680043.27262                1   0   1   0   0   0   0   0   \n",
       "2  1.2.826.0.1.3680043.21561                1   0   1   0   0   0   0   0   \n",
       "4   1.2.826.0.1.3680043.1363                1   0   0   0   0   1   0   0   \n",
       "5   1.2.826.0.1.3680043.4859                1   0   0   0   0   0   1   0   \n",
       "9  1.2.826.0.1.3680043.24045                1   0   0   0   0   0   0   1   \n",
       "\n",
       "   fracture_count  vertebrea  \n",
       "1               1          2  \n",
       "2               1          2  \n",
       "4               1          5  \n",
       "5               1          6  \n",
       "9               1          7  "
      ]
     },
     "execution_count": 10,
     "metadata": {},
     "output_type": "execute_result"
    }
   ],
   "source": [
    "df_frac_one.head()"
   ]
  },
  {
   "cell_type": "code",
   "execution_count": 11,
   "id": "59bd76ea-2619-4bb8-9cf2-ad8a2fb89d6e",
   "metadata": {},
   "outputs": [
    {
     "data": {
      "text/plain": [
       "array([2, 5, 6, 7, 1, 4, 3])"
      ]
     },
     "execution_count": 11,
     "metadata": {},
     "output_type": "execute_result"
    }
   ],
   "source": [
    "df_frac_one[\"vertebrea\"].unique()"
   ]
  },
  {
   "cell_type": "code",
   "execution_count": 12,
   "id": "fa67d302-1c92-4385-a10f-68de72f6ff54",
   "metadata": {},
   "outputs": [],
   "source": [
    "instance = \"1.2.826.0.1.3680043.27262\"\n",
    "paths = glob.glob(f\"train_images/{instance}/*.dcm\")"
   ]
  },
  {
   "cell_type": "code",
   "execution_count": 13,
   "id": "bb5a5706-8ec4-45d9-ac91-7b65896c5e81",
   "metadata": {},
   "outputs": [],
   "source": [
    "import re"
   ]
  },
  {
   "cell_type": "code",
   "execution_count": 14,
   "id": "981959f7-c2ac-49f8-ad2f-7ff19ae50374",
   "metadata": {},
   "outputs": [],
   "source": [
    "g = re.search(r\"(\\d+)(\\.dcm)\", paths[20])"
   ]
  },
  {
   "cell_type": "code",
   "execution_count": 15,
   "id": "1e176b89-d018-47a3-9433-0f662857f15b",
   "metadata": {},
   "outputs": [
    {
     "data": {
      "text/plain": [
       "'117'"
      ]
     },
     "execution_count": 15,
     "metadata": {},
     "output_type": "execute_result"
    }
   ],
   "source": [
    "g.groups()[0]"
   ]
  },
  {
   "cell_type": "code",
   "execution_count": 20,
   "id": "36d4c9c1-3d16-4cb2-ae83-48ae2d6a7177",
   "metadata": {},
   "outputs": [
    {
     "name": "stderr",
     "output_type": "stream",
     "text": [
      "/tmp/ipykernel_2105/1812353146.py:1: SettingWithCopyWarning: \n",
      "A value is trying to be set on a copy of a slice from a DataFrame.\n",
      "Try using .loc[row_indexer,col_indexer] = value instead\n",
      "\n",
      "See the caveats in the documentation: https://pandas.pydata.org/pandas-docs/stable/user_guide/indexing.html#returning-a-view-versus-a-copy\n",
      "  df_frac_one[\"slices\"] = df_frac_one.apply(lambda x: [int(re.search(r\"(\\d+)(\\.dcm)\", path).groups()[0]) for path in glob.glob(f\"train_images/{x[0]}/*.dcm\")] , axis=1)\n"
     ]
    }
   ],
   "source": [
    "df_frac_one[\"slices\"] = df_frac_one.apply(lambda x: [int(re.search(r\"(\\d+)(\\.dcm)\", path).groups()[0]) for path in glob.glob(f\"train_images/{x[0]}/*.dcm\")] , axis=1)"
   ]
  },
  {
   "cell_type": "code",
   "execution_count": 21,
   "id": "1f65b2b9-27c5-4c29-ae4c-209c385b39b4",
   "metadata": {},
   "outputs": [
    {
     "data": {
      "text/html": [
       "<div>\n",
       "<style scoped>\n",
       "    .dataframe tbody tr th:only-of-type {\n",
       "        vertical-align: middle;\n",
       "    }\n",
       "\n",
       "    .dataframe tbody tr th {\n",
       "        vertical-align: top;\n",
       "    }\n",
       "\n",
       "    .dataframe thead th {\n",
       "        text-align: right;\n",
       "    }\n",
       "</style>\n",
       "<table border=\"1\" class=\"dataframe\">\n",
       "  <thead>\n",
       "    <tr style=\"text-align: right;\">\n",
       "      <th></th>\n",
       "      <th>StudyInstanceUID</th>\n",
       "      <th>patient_overall</th>\n",
       "      <th>C1</th>\n",
       "      <th>C2</th>\n",
       "      <th>C3</th>\n",
       "      <th>C4</th>\n",
       "      <th>C5</th>\n",
       "      <th>C6</th>\n",
       "      <th>C7</th>\n",
       "      <th>fracture_count</th>\n",
       "      <th>vertebrea</th>\n",
       "      <th>slices</th>\n",
       "    </tr>\n",
       "  </thead>\n",
       "  <tbody>\n",
       "    <tr>\n",
       "      <th>1</th>\n",
       "      <td>1.2.826.0.1.3680043.27262</td>\n",
       "      <td>1</td>\n",
       "      <td>0</td>\n",
       "      <td>1</td>\n",
       "      <td>0</td>\n",
       "      <td>0</td>\n",
       "      <td>0</td>\n",
       "      <td>0</td>\n",
       "      <td>0</td>\n",
       "      <td>1</td>\n",
       "      <td>2</td>\n",
       "      <td>[1, 10, 100, 101, 102, 103, 104, 105, 106, 107...</td>\n",
       "    </tr>\n",
       "    <tr>\n",
       "      <th>2</th>\n",
       "      <td>1.2.826.0.1.3680043.21561</td>\n",
       "      <td>1</td>\n",
       "      <td>0</td>\n",
       "      <td>1</td>\n",
       "      <td>0</td>\n",
       "      <td>0</td>\n",
       "      <td>0</td>\n",
       "      <td>0</td>\n",
       "      <td>0</td>\n",
       "      <td>1</td>\n",
       "      <td>2</td>\n",
       "      <td>[1, 10, 100, 101, 102, 103, 104, 105, 106, 107...</td>\n",
       "    </tr>\n",
       "    <tr>\n",
       "      <th>4</th>\n",
       "      <td>1.2.826.0.1.3680043.1363</td>\n",
       "      <td>1</td>\n",
       "      <td>0</td>\n",
       "      <td>0</td>\n",
       "      <td>0</td>\n",
       "      <td>0</td>\n",
       "      <td>1</td>\n",
       "      <td>0</td>\n",
       "      <td>0</td>\n",
       "      <td>1</td>\n",
       "      <td>5</td>\n",
       "      <td>[1, 10, 100, 101, 102, 103, 104, 105, 106, 107...</td>\n",
       "    </tr>\n",
       "    <tr>\n",
       "      <th>5</th>\n",
       "      <td>1.2.826.0.1.3680043.4859</td>\n",
       "      <td>1</td>\n",
       "      <td>0</td>\n",
       "      <td>0</td>\n",
       "      <td>0</td>\n",
       "      <td>0</td>\n",
       "      <td>0</td>\n",
       "      <td>1</td>\n",
       "      <td>0</td>\n",
       "      <td>1</td>\n",
       "      <td>6</td>\n",
       "      <td>[1, 10, 100, 101, 102, 103, 104, 105, 106, 107...</td>\n",
       "    </tr>\n",
       "    <tr>\n",
       "      <th>9</th>\n",
       "      <td>1.2.826.0.1.3680043.24045</td>\n",
       "      <td>1</td>\n",
       "      <td>0</td>\n",
       "      <td>0</td>\n",
       "      <td>0</td>\n",
       "      <td>0</td>\n",
       "      <td>0</td>\n",
       "      <td>0</td>\n",
       "      <td>1</td>\n",
       "      <td>1</td>\n",
       "      <td>7</td>\n",
       "      <td>[1, 10, 100, 101, 102, 103, 104, 105, 106, 107...</td>\n",
       "    </tr>\n",
       "  </tbody>\n",
       "</table>\n",
       "</div>"
      ],
      "text/plain": [
       "            StudyInstanceUID  patient_overall  C1  C2  C3  C4  C5  C6  C7  \\\n",
       "1  1.2.826.0.1.3680043.27262                1   0   1   0   0   0   0   0   \n",
       "2  1.2.826.0.1.3680043.21561                1   0   1   0   0   0   0   0   \n",
       "4   1.2.826.0.1.3680043.1363                1   0   0   0   0   1   0   0   \n",
       "5   1.2.826.0.1.3680043.4859                1   0   0   0   0   0   1   0   \n",
       "9  1.2.826.0.1.3680043.24045                1   0   0   0   0   0   0   1   \n",
       "\n",
       "   fracture_count  vertebrea  \\\n",
       "1               1          2   \n",
       "2               1          2   \n",
       "4               1          5   \n",
       "5               1          6   \n",
       "9               1          7   \n",
       "\n",
       "                                              slices  \n",
       "1  [1, 10, 100, 101, 102, 103, 104, 105, 106, 107...  \n",
       "2  [1, 10, 100, 101, 102, 103, 104, 105, 106, 107...  \n",
       "4  [1, 10, 100, 101, 102, 103, 104, 105, 106, 107...  \n",
       "5  [1, 10, 100, 101, 102, 103, 104, 105, 106, 107...  \n",
       "9  [1, 10, 100, 101, 102, 103, 104, 105, 106, 107...  "
      ]
     },
     "execution_count": 21,
     "metadata": {},
     "output_type": "execute_result"
    }
   ],
   "source": [
    "df_frac_one.head()"
   ]
  },
  {
   "cell_type": "code",
   "execution_count": 22,
   "id": "70126cfe-235a-4aa7-8ace-daa367b6d0e4",
   "metadata": {},
   "outputs": [
    {
     "name": "stderr",
     "output_type": "stream",
     "text": [
      "/tmp/ipykernel_2105/3876003935.py:1: SettingWithCopyWarning: \n",
      "A value is trying to be set on a copy of a slice from a DataFrame.\n",
      "Try using .loc[row_indexer,col_indexer] = value instead\n",
      "\n",
      "See the caveats in the documentation: https://pandas.pydata.org/pandas-docs/stable/user_guide/indexing.html#returning-a-view-versus-a-copy\n",
      "  df_frac_one[\"slice_count\"] = df_frac_one[\"slices\"].apply(len)\n"
     ]
    }
   ],
   "source": [
    "df_frac_one[\"slice_count\"] = df_frac_one[\"slices\"].apply(len)"
   ]
  },
  {
   "cell_type": "code",
   "execution_count": 23,
   "id": "6e440168-8b11-40c6-bfb9-e92789ee9359",
   "metadata": {},
   "outputs": [
    {
     "data": {
      "text/plain": [
       "<AxesSubplot:>"
      ]
     },
     "execution_count": 23,
     "metadata": {},
     "output_type": "execute_result"
    },
    {
     "data": {
      "image/png": "[encoded data removed]",
      "text/plain": [
       "<Figure size 432x288 with 1 Axes>"
      ]
     },
     "metadata": {
      "needs_background": "light"
     },
     "output_type": "display_data"
    }
   ],
   "source": [
    "df_frac_one[\"slice_count\"].hist()"
   ]
  },
  {
   "cell_type": "code",
   "execution_count": 24,
   "id": "39ec5eb5-c4a7-4fe7-a445-dbe8f38b3cb6",
   "metadata": {},
   "outputs": [
    {
     "data": {
      "text/html": [
       "<div>\n",
       "<style scoped>\n",
       "    .dataframe tbody tr th:only-of-type {\n",
       "        vertical-align: middle;\n",
       "    }\n",
       "\n",
       "    .dataframe tbody tr th {\n",
       "        vertical-align: top;\n",
       "    }\n",
       "\n",
       "    .dataframe thead th {\n",
       "        text-align: right;\n",
       "    }\n",
       "</style>\n",
       "<table border=\"1\" class=\"dataframe\">\n",
       "  <thead>\n",
       "    <tr style=\"text-align: right;\">\n",
       "      <th></th>\n",
       "      <th>vertebrea</th>\n",
       "      <th>slice_count</th>\n",
       "    </tr>\n",
       "  </thead>\n",
       "  <tbody>\n",
       "    <tr>\n",
       "      <th>vertebrea</th>\n",
       "      <td>1.00000</td>\n",
       "      <td>0.08875</td>\n",
       "    </tr>\n",
       "    <tr>\n",
       "      <th>slice_count</th>\n",
       "      <td>0.08875</td>\n",
       "      <td>1.00000</td>\n",
       "    </tr>\n",
       "  </tbody>\n",
       "</table>\n",
       "</div>"
      ],
      "text/plain": [
       "             vertebrea  slice_count\n",
       "vertebrea      1.00000      0.08875\n",
       "slice_count    0.08875      1.00000"
      ]
     },
     "execution_count": 24,
     "metadata": {},
     "output_type": "execute_result"
    }
   ],
   "source": [
    "df_frac_one[[\"vertebrea\", \"slice_count\"]].corr()"
   ]
  },
  {
   "cell_type": "markdown",
   "id": "f17206c2-af01-4d16-8b38-7ff27b5f1bc5",
   "metadata": {},
   "source": [
    "No correlation to slice counts and vertebrea fracture"
   ]
  },
  {
   "cell_type": "code",
   "execution_count": 25,
   "id": "aa29d1a2-3834-45be-bafa-bee5539c327f",
   "metadata": {},
   "outputs": [
    {
     "data": {
      "text/plain": [
       "array([ 1,  2, 59])"
      ]
     },
     "execution_count": 25,
     "metadata": {},
     "output_type": "execute_result"
    }
   ],
   "source": [
    "df_frac_one[\"slices\"].apply(min).unique()"
   ]
  },
  {
   "cell_type": "code",
   "execution_count": 26,
   "id": "effc44b1-4f16-461a-abf9-2ddf42a00d03",
   "metadata": {},
   "outputs": [
    {
     "name": "stderr",
     "output_type": "stream",
     "text": [
      "/tmp/ipykernel_2105/1961800925.py:1: SettingWithCopyWarning: \n",
      "A value is trying to be set on a copy of a slice from a DataFrame.\n",
      "Try using .loc[row_indexer,col_indexer] = value instead\n",
      "\n",
      "See the caveats in the documentation: https://pandas.pydata.org/pandas-docs/stable/user_guide/indexing.html#returning-a-view-versus-a-copy\n",
      "  df_frac_one[\"slices_max\"] = df_frac_one[\"slices\"].apply(max)\n"
     ]
    }
   ],
   "source": [
    "df_frac_one[\"slices_max\"] = df_frac_one[\"slices\"].apply(max)"
   ]
  },
  {
   "cell_type": "code",
   "execution_count": 28,
   "id": "dfe1bb5b-bc2b-4619-bf57-223eb4117731",
   "metadata": {},
   "outputs": [
    {
     "name": "stderr",
     "output_type": "stream",
     "text": [
      "/tmp/ipykernel_2105/641919964.py:1: SettingWithCopyWarning: \n",
      "A value is trying to be set on a copy of a slice from a DataFrame.\n",
      "Try using .loc[row_indexer,col_indexer] = value instead\n",
      "\n",
      "See the caveats in the documentation: https://pandas.pydata.org/pandas-docs/stable/user_guide/indexing.html#returning-a-view-versus-a-copy\n",
      "  df_frac_one[\"slices_min\"] = df_frac_one[\"slices\"].apply(min)\n"
     ]
    }
   ],
   "source": [
    "df_frac_one[\"slices_min\"] = df_frac_one[\"slices\"].apply(min)"
   ]
  },
  {
   "cell_type": "code",
   "execution_count": 29,
   "id": "e23863d9-1315-49f6-aa26-262fbfcc1ae8",
   "metadata": {},
   "outputs": [
    {
     "data": {
      "text/html": [
       "<div>\n",
       "<style scoped>\n",
       "    .dataframe tbody tr th:only-of-type {\n",
       "        vertical-align: middle;\n",
       "    }\n",
       "\n",
       "    .dataframe tbody tr th {\n",
       "        vertical-align: top;\n",
       "    }\n",
       "\n",
       "    .dataframe thead th {\n",
       "        text-align: right;\n",
       "    }\n",
       "</style>\n",
       "<table border=\"1\" class=\"dataframe\">\n",
       "  <thead>\n",
       "    <tr style=\"text-align: right;\">\n",
       "      <th></th>\n",
       "      <th>StudyInstanceUID</th>\n",
       "      <th>patient_overall</th>\n",
       "      <th>C1</th>\n",
       "      <th>C2</th>\n",
       "      <th>C3</th>\n",
       "      <th>C4</th>\n",
       "      <th>C5</th>\n",
       "      <th>C6</th>\n",
       "      <th>C7</th>\n",
       "      <th>fracture_count</th>\n",
       "      <th>vertebrea</th>\n",
       "      <th>slices</th>\n",
       "      <th>slice_count</th>\n",
       "      <th>slices_max</th>\n",
       "      <th>slices_min</th>\n",
       "    </tr>\n",
       "  </thead>\n",
       "  <tbody>\n",
       "    <tr>\n",
       "      <th>1</th>\n",
       "      <td>1.2.826.0.1.3680043.27262</td>\n",
       "      <td>1</td>\n",
       "      <td>0</td>\n",
       "      <td>1</td>\n",
       "      <td>0</td>\n",
       "      <td>0</td>\n",
       "      <td>0</td>\n",
       "      <td>0</td>\n",
       "      <td>0</td>\n",
       "      <td>1</td>\n",
       "      <td>2</td>\n",
       "      <td>[1, 10, 100, 101, 102, 103, 104, 105, 106, 107...</td>\n",
       "      <td>406</td>\n",
       "      <td>406</td>\n",
       "      <td>1</td>\n",
       "    </tr>\n",
       "    <tr>\n",
       "      <th>2</th>\n",
       "      <td>1.2.826.0.1.3680043.21561</td>\n",
       "      <td>1</td>\n",
       "      <td>0</td>\n",
       "      <td>1</td>\n",
       "      <td>0</td>\n",
       "      <td>0</td>\n",
       "      <td>0</td>\n",
       "      <td>0</td>\n",
       "      <td>0</td>\n",
       "      <td>1</td>\n",
       "      <td>2</td>\n",
       "      <td>[1, 10, 100, 101, 102, 103, 104, 105, 106, 107...</td>\n",
       "      <td>385</td>\n",
       "      <td>385</td>\n",
       "      <td>1</td>\n",
       "    </tr>\n",
       "    <tr>\n",
       "      <th>4</th>\n",
       "      <td>1.2.826.0.1.3680043.1363</td>\n",
       "      <td>1</td>\n",
       "      <td>0</td>\n",
       "      <td>0</td>\n",
       "      <td>0</td>\n",
       "      <td>0</td>\n",
       "      <td>1</td>\n",
       "      <td>0</td>\n",
       "      <td>0</td>\n",
       "      <td>1</td>\n",
       "      <td>5</td>\n",
       "      <td>[1, 10, 100, 101, 102, 103, 104, 105, 106, 107...</td>\n",
       "      <td>199</td>\n",
       "      <td>199</td>\n",
       "      <td>1</td>\n",
       "    </tr>\n",
       "    <tr>\n",
       "      <th>5</th>\n",
       "      <td>1.2.826.0.1.3680043.4859</td>\n",
       "      <td>1</td>\n",
       "      <td>0</td>\n",
       "      <td>0</td>\n",
       "      <td>0</td>\n",
       "      <td>0</td>\n",
       "      <td>0</td>\n",
       "      <td>1</td>\n",
       "      <td>0</td>\n",
       "      <td>1</td>\n",
       "      <td>6</td>\n",
       "      <td>[1, 10, 100, 101, 102, 103, 104, 105, 106, 107...</td>\n",
       "      <td>310</td>\n",
       "      <td>310</td>\n",
       "      <td>1</td>\n",
       "    </tr>\n",
       "    <tr>\n",
       "      <th>9</th>\n",
       "      <td>1.2.826.0.1.3680043.24045</td>\n",
       "      <td>1</td>\n",
       "      <td>0</td>\n",
       "      <td>0</td>\n",
       "      <td>0</td>\n",
       "      <td>0</td>\n",
       "      <td>0</td>\n",
       "      <td>0</td>\n",
       "      <td>1</td>\n",
       "      <td>1</td>\n",
       "      <td>7</td>\n",
       "      <td>[1, 10, 100, 101, 102, 103, 104, 105, 106, 107...</td>\n",
       "      <td>563</td>\n",
       "      <td>563</td>\n",
       "      <td>1</td>\n",
       "    </tr>\n",
       "  </tbody>\n",
       "</table>\n",
       "</div>"
      ],
      "text/plain": [
       "            StudyInstanceUID  patient_overall  C1  C2  C3  C4  C5  C6  C7  \\\n",
       "1  1.2.826.0.1.3680043.27262                1   0   1   0   0   0   0   0   \n",
       "2  1.2.826.0.1.3680043.21561                1   0   1   0   0   0   0   0   \n",
       "4   1.2.826.0.1.3680043.1363                1   0   0   0   0   1   0   0   \n",
       "5   1.2.826.0.1.3680043.4859                1   0   0   0   0   0   1   0   \n",
       "9  1.2.826.0.1.3680043.24045                1   0   0   0   0   0   0   1   \n",
       "\n",
       "   fracture_count  vertebrea  \\\n",
       "1               1          2   \n",
       "2               1          2   \n",
       "4               1          5   \n",
       "5               1          6   \n",
       "9               1          7   \n",
       "\n",
       "                                              slices  slice_count  slices_max  \\\n",
       "1  [1, 10, 100, 101, 102, 103, 104, 105, 106, 107...          406         406   \n",
       "2  [1, 10, 100, 101, 102, 103, 104, 105, 106, 107...          385         385   \n",
       "4  [1, 10, 100, 101, 102, 103, 104, 105, 106, 107...          199         199   \n",
       "5  [1, 10, 100, 101, 102, 103, 104, 105, 106, 107...          310         310   \n",
       "9  [1, 10, 100, 101, 102, 103, 104, 105, 106, 107...          563         563   \n",
       "\n",
       "   slices_min  \n",
       "1           1  \n",
       "2           1  \n",
       "4           1  \n",
       "5           1  \n",
       "9           1  "
      ]
     },
     "execution_count": 29,
     "metadata": {},
     "output_type": "execute_result"
    }
   ],
   "source": [
    "df_frac_one.head()"
   ]
  },
  {
   "cell_type": "code",
   "execution_count": 34,
   "id": "984ae75c-41b1-4a19-8ec6-3c0bc905f409",
   "metadata": {},
   "outputs": [
    {
     "name": "stderr",
     "output_type": "stream",
     "text": [
      "/tmp/ipykernel_2105/2191285022.py:1: SettingWithCopyWarning: \n",
      "A value is trying to be set on a copy of a slice from a DataFrame.\n",
      "Try using .loc[row_indexer,col_indexer] = value instead\n",
      "\n",
      "See the caveats in the documentation: https://pandas.pydata.org/pandas-docs/stable/user_guide/indexing.html#returning-a-view-versus-a-copy\n",
      "  df_frac_one[\"patient_image_position\"] = df_frac_one.apply(lambda x: utils.show_dcm_image(f\"train_images/{x[0]}/{x[14]}.dcm\")[0].ImagePositionPatient, axis=1)\n"
     ]
    }
   ],
   "source": [
    "df_frac_one[\"patient_image_position\"] = df_frac_one.apply(lambda x: utils.show_dcm_image(f\"train_images/{x[0]}/{x[14]}.dcm\")[0].ImagePositionPatient, axis=1)"
   ]
  },
  {
   "cell_type": "code",
   "execution_count": 35,
   "id": "316cd9ca-5887-4c18-8b50-2c5e2faf68e0",
   "metadata": {},
   "outputs": [
    {
     "data": {
      "text/html": [
       "<div>\n",
       "<style scoped>\n",
       "    .dataframe tbody tr th:only-of-type {\n",
       "        vertical-align: middle;\n",
       "    }\n",
       "\n",
       "    .dataframe tbody tr th {\n",
       "        vertical-align: top;\n",
       "    }\n",
       "\n",
       "    .dataframe thead th {\n",
       "        text-align: right;\n",
       "    }\n",
       "</style>\n",
       "<table border=\"1\" class=\"dataframe\">\n",
       "  <thead>\n",
       "    <tr style=\"text-align: right;\">\n",
       "      <th></th>\n",
       "      <th>StudyInstanceUID</th>\n",
       "      <th>patient_overall</th>\n",
       "      <th>C1</th>\n",
       "      <th>C2</th>\n",
       "      <th>C3</th>\n",
       "      <th>C4</th>\n",
       "      <th>C5</th>\n",
       "      <th>C6</th>\n",
       "      <th>C7</th>\n",
       "      <th>fracture_count</th>\n",
       "      <th>vertebrea</th>\n",
       "      <th>slices</th>\n",
       "      <th>slice_count</th>\n",
       "      <th>slices_max</th>\n",
       "      <th>slices_min</th>\n",
       "      <th>patient_image_position</th>\n",
       "    </tr>\n",
       "  </thead>\n",
       "  <tbody>\n",
       "    <tr>\n",
       "      <th>1</th>\n",
       "      <td>1.2.826.0.1.3680043.27262</td>\n",
       "      <td>1</td>\n",
       "      <td>0</td>\n",
       "      <td>1</td>\n",
       "      <td>0</td>\n",
       "      <td>0</td>\n",
       "      <td>0</td>\n",
       "      <td>0</td>\n",
       "      <td>0</td>\n",
       "      <td>1</td>\n",
       "      <td>2</td>\n",
       "      <td>[1, 10, 100, 101, 102, 103, 104, 105, 106, 107...</td>\n",
       "      <td>406</td>\n",
       "      <td>406</td>\n",
       "      <td>1</td>\n",
       "      <td>[-79.92172, -23.28110, 1930.50]</td>\n",
       "    </tr>\n",
       "    <tr>\n",
       "      <th>2</th>\n",
       "      <td>1.2.826.0.1.3680043.21561</td>\n",
       "      <td>1</td>\n",
       "      <td>0</td>\n",
       "      <td>1</td>\n",
       "      <td>0</td>\n",
       "      <td>0</td>\n",
       "      <td>0</td>\n",
       "      <td>0</td>\n",
       "      <td>0</td>\n",
       "      <td>1</td>\n",
       "      <td>2</td>\n",
       "      <td>[1, 10, 100, 101, 102, 103, 104, 105, 106, 107...</td>\n",
       "      <td>385</td>\n",
       "      <td>385</td>\n",
       "      <td>1</td>\n",
       "      <td>[-40.854, -42.290, -13.363]</td>\n",
       "    </tr>\n",
       "    <tr>\n",
       "      <th>4</th>\n",
       "      <td>1.2.826.0.1.3680043.1363</td>\n",
       "      <td>1</td>\n",
       "      <td>0</td>\n",
       "      <td>0</td>\n",
       "      <td>0</td>\n",
       "      <td>0</td>\n",
       "      <td>1</td>\n",
       "      <td>0</td>\n",
       "      <td>0</td>\n",
       "      <td>1</td>\n",
       "      <td>5</td>\n",
       "      <td>[1, 10, 100, 101, 102, 103, 104, 105, 106, 107...</td>\n",
       "      <td>199</td>\n",
       "      <td>199</td>\n",
       "      <td>1</td>\n",
       "      <td>[-149.2080078125, -350.2080078125, 54]</td>\n",
       "    </tr>\n",
       "    <tr>\n",
       "      <th>5</th>\n",
       "      <td>1.2.826.0.1.3680043.4859</td>\n",
       "      <td>1</td>\n",
       "      <td>0</td>\n",
       "      <td>0</td>\n",
       "      <td>0</td>\n",
       "      <td>0</td>\n",
       "      <td>0</td>\n",
       "      <td>1</td>\n",
       "      <td>0</td>\n",
       "      <td>1</td>\n",
       "      <td>6</td>\n",
       "      <td>[1, 10, 100, 101, 102, 103, 104, 105, 106, 107...</td>\n",
       "      <td>310</td>\n",
       "      <td>310</td>\n",
       "      <td>1</td>\n",
       "      <td>[-70.500, -13.500, -26.250]</td>\n",
       "    </tr>\n",
       "    <tr>\n",
       "      <th>9</th>\n",
       "      <td>1.2.826.0.1.3680043.24045</td>\n",
       "      <td>1</td>\n",
       "      <td>0</td>\n",
       "      <td>0</td>\n",
       "      <td>0</td>\n",
       "      <td>0</td>\n",
       "      <td>0</td>\n",
       "      <td>0</td>\n",
       "      <td>1</td>\n",
       "      <td>1</td>\n",
       "      <td>7</td>\n",
       "      <td>[1, 10, 100, 101, 102, 103, 104, 105, 106, 107...</td>\n",
       "      <td>563</td>\n",
       "      <td>563</td>\n",
       "      <td>1</td>\n",
       "      <td>[-115.0093, -52.50931, 2048.50]</td>\n",
       "    </tr>\n",
       "  </tbody>\n",
       "</table>\n",
       "</div>"
      ],
      "text/plain": [
       "            StudyInstanceUID  patient_overall  C1  C2  C3  C4  C5  C6  C7  \\\n",
       "1  1.2.826.0.1.3680043.27262                1   0   1   0   0   0   0   0   \n",
       "2  1.2.826.0.1.3680043.21561                1   0   1   0   0   0   0   0   \n",
       "4   1.2.826.0.1.3680043.1363                1   0   0   0   0   1   0   0   \n",
       "5   1.2.826.0.1.3680043.4859                1   0   0   0   0   0   1   0   \n",
       "9  1.2.826.0.1.3680043.24045                1   0   0   0   0   0   0   1   \n",
       "\n",
       "   fracture_count  vertebrea  \\\n",
       "1               1          2   \n",
       "2               1          2   \n",
       "4               1          5   \n",
       "5               1          6   \n",
       "9               1          7   \n",
       "\n",
       "                                              slices  slice_count  slices_max  \\\n",
       "1  [1, 10, 100, 101, 102, 103, 104, 105, 106, 107...          406         406   \n",
       "2  [1, 10, 100, 101, 102, 103, 104, 105, 106, 107...          385         385   \n",
       "4  [1, 10, 100, 101, 102, 103, 104, 105, 106, 107...          199         199   \n",
       "5  [1, 10, 100, 101, 102, 103, 104, 105, 106, 107...          310         310   \n",
       "9  [1, 10, 100, 101, 102, 103, 104, 105, 106, 107...          563         563   \n",
       "\n",
       "   slices_min                  patient_image_position  \n",
       "1           1         [-79.92172, -23.28110, 1930.50]  \n",
       "2           1             [-40.854, -42.290, -13.363]  \n",
       "4           1  [-149.2080078125, -350.2080078125, 54]  \n",
       "5           1             [-70.500, -13.500, -26.250]  \n",
       "9           1         [-115.0093, -52.50931, 2048.50]  "
      ]
     },
     "execution_count": 35,
     "metadata": {},
     "output_type": "execute_result"
    }
   ],
   "source": [
    "df_frac_one.head()"
   ]
  },
  {
   "cell_type": "code",
   "execution_count": 108,
   "id": "f2c38a17-b1f1-4855-bd2a-918059da4d3a",
   "metadata": {},
   "outputs": [
    {
     "data": {
      "text/plain": [
       "<AxesSubplot:>"
      ]
     },
     "execution_count": 108,
     "metadata": {},
     "output_type": "execute_result"
    },
    {
     "data": {
      "image/png": "[encoded data removed]",
      "text/plain": [
       "<Figure size 432x288 with 1 Axes>"
      ]
     },
     "metadata": {
      "needs_background": "light"
     },
     "output_type": "display_data"
    }
   ],
   "source": [
    "df_frac_one.vertebrea.hist()"
   ]
  },
  {
   "cell_type": "code",
   "execution_count": 111,
   "id": "c8017dba-6243-4efd-b6cb-7ad7157b59b0",
   "metadata": {},
   "outputs": [
    {
     "data": {
      "image/png": "[encoded data removed]",
      "text/plain": [
       "<Figure size 1080x1080 with 1 Axes>"
      ]
     },
     "metadata": {
      "needs_background": "light"
     },
     "output_type": "display_data"
    }
   ],
   "source": [
    "fig = plt.figure(figsize=(15,15))\n",
    "ax = fig.add_subplot(projection='3d')\n",
    "sample = None\n",
    "markers = ['o', 'v', '^', '<', '>', '8', 's', 'p', '*', 'h', 'H', 'D', 'd', 'P', 'X']\n",
    "for i in sorted(df_frac_one.vertebrea.unique()):\n",
    "    if i in [2,6,7]:\n",
    "        continue\n",
    "    values = df_frac_one[df_frac_one.vertebrea == i][\"patient_image_position\"].apply(lambda x: np.array([float(i) for i in x])).values\n",
    "    position = np.concatenate(values).reshape(len(values),3)\n",
    "    ax.scatter(position[:,0], position[:,1], position[:,2], marker=markers[i], s=25, alpha=1)\n",
    "    ax.legend(labels=[f\"C{i}\" for i in range(1,8)])\n",
    "    ax.set_title(\"Patient position distribution different vertebrae fracture\")\n",
    "    # print(values.shape)\n",
    "    # sample = values"
   ]
  },
  {
   "cell_type": "code",
   "execution_count": 27,
   "id": "c395ec4c-646b-49ff-afde-5dac7a851d5e",
   "metadata": {},
   "outputs": [
    {
     "data": {
      "text/html": [
       "<div>\n",
       "<style scoped>\n",
       "    .dataframe tbody tr th:only-of-type {\n",
       "        vertical-align: middle;\n",
       "    }\n",
       "\n",
       "    .dataframe tbody tr th {\n",
       "        vertical-align: top;\n",
       "    }\n",
       "\n",
       "    .dataframe thead th {\n",
       "        text-align: right;\n",
       "    }\n",
       "</style>\n",
       "<table border=\"1\" class=\"dataframe\">\n",
       "  <thead>\n",
       "    <tr style=\"text-align: right;\">\n",
       "      <th></th>\n",
       "      <th>vertebrea</th>\n",
       "      <th>slice_count</th>\n",
       "      <th>slices_max</th>\n",
       "    </tr>\n",
       "  </thead>\n",
       "  <tbody>\n",
       "    <tr>\n",
       "      <th>vertebrea</th>\n",
       "      <td>1.000000</td>\n",
       "      <td>0.088750</td>\n",
       "      <td>0.088004</td>\n",
       "    </tr>\n",
       "    <tr>\n",
       "      <th>slice_count</th>\n",
       "      <td>0.088750</td>\n",
       "      <td>1.000000</td>\n",
       "      <td>0.999832</td>\n",
       "    </tr>\n",
       "    <tr>\n",
       "      <th>slices_max</th>\n",
       "      <td>0.088004</td>\n",
       "      <td>0.999832</td>\n",
       "      <td>1.000000</td>\n",
       "    </tr>\n",
       "  </tbody>\n",
       "</table>\n",
       "</div>"
      ],
      "text/plain": [
       "             vertebrea  slice_count  slices_max\n",
       "vertebrea     1.000000     0.088750    0.088004\n",
       "slice_count   0.088750     1.000000    0.999832\n",
       "slices_max    0.088004     0.999832    1.000000"
      ]
     },
     "execution_count": 27,
     "metadata": {},
     "output_type": "execute_result"
    }
   ],
   "source": [
    "df_frac_one[[\"vertebrea\", \"slice_count\", \"slices_max\"]].corr()"
   ]
  }
 ],
 "metadata": {
  "kernelspec": {
   "display_name": "Python 3 (ipykernel)",
   "language": "python",
   "name": "python3"
  },
  "language_info": {
   "codemirror_mode": {
    "name": "ipython",
    "version": 3
   },
   "file_extension": ".py",
   "mimetype": "text/x-python",
   "name": "python",
   "nbconvert_exporter": "python",
   "pygments_lexer": "ipython3",
   "version": "3.8.13"
  }
 },
 "nbformat": 4,
 "nbformat_minor": 5
}
